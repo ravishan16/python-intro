{
 "cells": [
  {
   "attachments": {},
   "cell_type": "markdown",
   "metadata": {},
   "source": [
    "## Print Hello World"
   ]
  },
  {
   "cell_type": "code",
   "execution_count": 3,
   "metadata": {},
   "outputs": [
    {
     "name": "stdout",
     "output_type": "stream",
     "text": [
      "Hello World!\n"
     ]
    }
   ],
   "source": [
    "print (\"Hello World!\")"
   ]
  },
  {
   "attachments": {},
   "cell_type": "markdown",
   "metadata": {},
   "source": [
    "## This is a basic arithmetic program in Python\n"
   ]
  },
  {
   "cell_type": "code",
   "execution_count": 4,
   "metadata": {},
   "outputs": [
    {
     "name": "stdout",
     "output_type": "stream",
     "text": [
      "a + b = 7\n",
      "a - b = 3\n",
      "a * b = 10\n",
      "a / b = 2.5\n",
      "a // b = 2\n",
      "a % b = 1\n"
     ]
    }
   ],
   "source": [
    "\n",
    "# Define two variables a and b and assign them integer values\n",
    "a = 5\n",
    "b = 2\n",
    "\n",
    "# Perform arithmetic operations on the variables\n",
    "c = a + b  # addition\n",
    "d = a - b  # subtraction\n",
    "e = a * b  # multiplication\n",
    "f = a / b  # division (returns a float)\n",
    "g = a // b # integer division (returns an integer)\n",
    "h = a % b  # modulus (returns the remainder)\n",
    "\n",
    "# Print the results to the console\n",
    "print(\"a + b =\", c)\n",
    "print(\"a - b =\", d)\n",
    "print(\"a * b =\", e)\n",
    "print(\"a / b =\", f)\n",
    "print(\"a // b =\", g)\n",
    "print(\"a % b =\", h)\n"
   ]
  }
 ],
 "metadata": {
  "kernelspec": {
   "display_name": "Python 3",
   "language": "python",
   "name": "python3"
  },
  "language_info": {
   "codemirror_mode": {
    "name": "ipython",
    "version": 3
   },
   "file_extension": ".py",
   "mimetype": "text/x-python",
   "name": "python",
   "nbconvert_exporter": "python",
   "pygments_lexer": "ipython3",
   "version": "3.9.12"
  },
  "orig_nbformat": 4,
  "vscode": {
   "interpreter": {
    "hash": "aee8b7b246df8f9039afb4144a1f6fd8d2ca17a180786b69acc140d282b71a49"
   }
  }
 },
 "nbformat": 4,
 "nbformat_minor": 2
}
