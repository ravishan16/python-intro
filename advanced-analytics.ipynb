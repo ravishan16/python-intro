{
 "cells": [
  {
   "attachments": {},
   "cell_type": "markdown",
   "metadata": {},
   "source": [
    "## Titanic Dataset\n",
    "\n",
    "- The Titanic dataset is a collection of data that contains information about the passengers who were on board the Titanic when it sank in 1912.\n",
    "- It includes details such as the passengers' age, gender, ticket class, and whether or not they survived the disaster.\n",
    "- The dataset is often used in data analysis and machine learning to explore patterns and relationships in the data.\n",
    "- It can also be used to develop predictive models based on the passengers' characteristics and their likelihood of survival."
   ]
  },
  {
   "attachments": {},
   "cell_type": "markdown",
   "metadata": {},
   "source": [
    "## Columns Details\n",
    "\n",
    "- PassengerId: a unique identifier for each passenger\n",
    "- Survived: indicates whether the passenger survived the sinking (0 = did not survive, 1 = survived)\n",
    "- Pclass: the passenger's ticket class (1 = first class, 2 = second class, 3 = third class)\n",
    "- Name: the passenger's name\n",
    "- Sex: the passenger's gender\n",
    "- Age: the passenger's age in years\n",
    "- SibSp: the number of siblings or spouses the passenger had aboard the ship\n",
    "- Parch: the number of parents or children the passenger had aboard the ship\n",
    "- Ticket: the passenger's ticket number\n",
    "- Fare: the fare the passenger paid for their ticket\n",
    "- Cabin: the passenger's cabin number\n",
    "- Embarked: the port of embarkation (C = Cherbourg, Q = Queenstown, S = Southampton)"
   ]
  },
  {
   "attachments": {},
   "cell_type": "markdown",
   "metadata": {},
   "source": [
    "## Read the Data set and look at basic statistics \n",
    "Source : https://web.stanford.edu/class/archive/cs/cs109/cs109.1166/stuff/titanic.csv"
   ]
  },
  {
   "cell_type": "code",
   "execution_count": 6,
   "metadata": {},
   "outputs": [
    {
     "data": {
      "text/html": [
       "<div>\n",
       "<style scoped>\n",
       "    .dataframe tbody tr th:only-of-type {\n",
       "        vertical-align: middle;\n",
       "    }\n",
       "\n",
       "    .dataframe tbody tr th {\n",
       "        vertical-align: top;\n",
       "    }\n",
       "\n",
       "    .dataframe thead th {\n",
       "        text-align: right;\n",
       "    }\n",
       "</style>\n",
       "<table border=\"1\" class=\"dataframe\">\n",
       "  <thead>\n",
       "    <tr style=\"text-align: right;\">\n",
       "      <th></th>\n",
       "      <th>Survived</th>\n",
       "      <th>Pclass</th>\n",
       "      <th>Age</th>\n",
       "      <th>Siblings/Spouses Aboard</th>\n",
       "      <th>Parents/Children Aboard</th>\n",
       "      <th>Fare</th>\n",
       "    </tr>\n",
       "  </thead>\n",
       "  <tbody>\n",
       "    <tr>\n",
       "      <th>count</th>\n",
       "      <td>887.000000</td>\n",
       "      <td>887.000000</td>\n",
       "      <td>887.000000</td>\n",
       "      <td>887.000000</td>\n",
       "      <td>887.000000</td>\n",
       "      <td>887.00000</td>\n",
       "    </tr>\n",
       "    <tr>\n",
       "      <th>mean</th>\n",
       "      <td>0.385569</td>\n",
       "      <td>2.305524</td>\n",
       "      <td>29.471443</td>\n",
       "      <td>0.525366</td>\n",
       "      <td>0.383315</td>\n",
       "      <td>32.30542</td>\n",
       "    </tr>\n",
       "    <tr>\n",
       "      <th>std</th>\n",
       "      <td>0.487004</td>\n",
       "      <td>0.836662</td>\n",
       "      <td>14.121908</td>\n",
       "      <td>1.104669</td>\n",
       "      <td>0.807466</td>\n",
       "      <td>49.78204</td>\n",
       "    </tr>\n",
       "    <tr>\n",
       "      <th>min</th>\n",
       "      <td>0.000000</td>\n",
       "      <td>1.000000</td>\n",
       "      <td>0.420000</td>\n",
       "      <td>0.000000</td>\n",
       "      <td>0.000000</td>\n",
       "      <td>0.00000</td>\n",
       "    </tr>\n",
       "    <tr>\n",
       "      <th>25%</th>\n",
       "      <td>0.000000</td>\n",
       "      <td>2.000000</td>\n",
       "      <td>20.250000</td>\n",
       "      <td>0.000000</td>\n",
       "      <td>0.000000</td>\n",
       "      <td>7.92500</td>\n",
       "    </tr>\n",
       "    <tr>\n",
       "      <th>50%</th>\n",
       "      <td>0.000000</td>\n",
       "      <td>3.000000</td>\n",
       "      <td>28.000000</td>\n",
       "      <td>0.000000</td>\n",
       "      <td>0.000000</td>\n",
       "      <td>14.45420</td>\n",
       "    </tr>\n",
       "    <tr>\n",
       "      <th>75%</th>\n",
       "      <td>1.000000</td>\n",
       "      <td>3.000000</td>\n",
       "      <td>38.000000</td>\n",
       "      <td>1.000000</td>\n",
       "      <td>0.000000</td>\n",
       "      <td>31.13750</td>\n",
       "    </tr>\n",
       "    <tr>\n",
       "      <th>max</th>\n",
       "      <td>1.000000</td>\n",
       "      <td>3.000000</td>\n",
       "      <td>80.000000</td>\n",
       "      <td>8.000000</td>\n",
       "      <td>6.000000</td>\n",
       "      <td>512.32920</td>\n",
       "    </tr>\n",
       "  </tbody>\n",
       "</table>\n",
       "</div>"
      ],
      "text/plain": [
       "         Survived      Pclass         Age  Siblings/Spouses Aboard  \\\n",
       "count  887.000000  887.000000  887.000000               887.000000   \n",
       "mean     0.385569    2.305524   29.471443                 0.525366   \n",
       "std      0.487004    0.836662   14.121908                 1.104669   \n",
       "min      0.000000    1.000000    0.420000                 0.000000   \n",
       "25%      0.000000    2.000000   20.250000                 0.000000   \n",
       "50%      0.000000    3.000000   28.000000                 0.000000   \n",
       "75%      1.000000    3.000000   38.000000                 1.000000   \n",
       "max      1.000000    3.000000   80.000000                 8.000000   \n",
       "\n",
       "       Parents/Children Aboard       Fare  \n",
       "count               887.000000  887.00000  \n",
       "mean                  0.383315   32.30542  \n",
       "std                   0.807466   49.78204  \n",
       "min                   0.000000    0.00000  \n",
       "25%                   0.000000    7.92500  \n",
       "50%                   0.000000   14.45420  \n",
       "75%                   0.000000   31.13750  \n",
       "max                   6.000000  512.32920  "
      ]
     },
     "execution_count": 6,
     "metadata": {},
     "output_type": "execute_result"
    }
   ],
   "source": [
    "import pandas as pd\n",
    "titanic = pd.read_csv('https://web.stanford.edu/class/archive/cs/cs109/cs109.1166/stuff/titanic.csv')\n",
    "titanic.describe()"
   ]
  },
  {
   "attachments": {},
   "cell_type": "markdown",
   "metadata": {},
   "source": [
    "## Determine the count of surviving and non-surviving passengers.\n",
    "\n",
    "\n",
    "\n",
    "\n",
    "\n"
   ]
  },
  {
   "cell_type": "code",
   "execution_count": 7,
   "metadata": {},
   "outputs": [
    {
     "name": "stdout",
     "output_type": "stream",
     "text": [
      "survived : 342\n",
      "not_survived : 545\n",
      "Total Passesngers : 887\n"
     ]
    }
   ],
   "source": [
    "survived = titanic['Survived'].value_counts()[1]\n",
    "not_survived = titanic['Survived'].value_counts()[0]\n",
    "print(\"survived :\", survived)\n",
    "print(\"not_survived :\", not_survived)\n",
    "print(\"Total Passesngers :\", survived+not_survived)\n"
   ]
  },
  {
   "attachments": {},
   "cell_type": "markdown",
   "metadata": {},
   "source": [
    "## Identify columns with low correlation to the target variable (in this case, the \"Survived\" column)\n",
    "\n",
    "#### This will display the correlation coefficients between each column and the \"Survived\" column in descending order. Columns with low correlation to the target variable can be considered irrelevant and potentially removed from the dataset."
   ]
  },
  {
   "cell_type": "code",
   "execution_count": 8,
   "metadata": {},
   "outputs": [
    {
     "data": {
      "text/plain": [
       "Survived                   1.000000\n",
       "Pclass                     0.336528\n",
       "Fare                       0.256179\n",
       "Parents/Children Aboard    0.080097\n",
       "Age                        0.059665\n",
       "Siblings/Spouses Aboard    0.037082\n",
       "Name: Survived, dtype: float64"
      ]
     },
     "execution_count": 8,
     "metadata": {},
     "output_type": "execute_result"
    }
   ],
   "source": [
    "corr_matrix = titanic.corr()\n",
    "abs(corr_matrix['Survived']).sort_values(ascending=False)"
   ]
  },
  {
   "attachments": {},
   "cell_type": "markdown",
   "metadata": {},
   "source": [
    "## Training a simple machine learning model \n",
    "\n",
    "- The logistic regression algorithm looks at the relationship between the outcome we want to predict and the factors we think might influence that outcome. It calculates a probability of the outcome based on those factors. If the probability is greater than a certain threshold, we predict one outcome, and if it's less than the threshold, we predict the other outcome.\n",
    "\n",
    "- The \"logistic\" part of logistic regression refers to the mathematical function that is used to calculate the probabilities. This function makes sure that the probabilities are always between 0 and 1, which is necessary for a binary outcome.\n",
    "\n",
    "\n",
    "\n",
    "\n",
    "\n"
   ]
  },
  {
   "attachments": {},
   "cell_type": "markdown",
   "metadata": {},
   "source": [
    "- Load the Titanic dataset: The Titanic dataset contains information about passengers on the Titanic, including whether they survived or not. We can load this dataset into a pandas dataframe using the read_csv function.\n",
    "\n",
    "- Preprocess the data: We may need to preprocess the data, such as filling in missing values, converting categorical variables to numerical, and normalizing numerical variables.\n",
    "\n",
    "- Split the data: We split the data into training and testing sets using the train_test_split function from scikit-learn. This ensures that we have a separate set of data to evaluate our model.\n",
    "\n",
    "- Train the model: We train a logistic regression model using the training data. This involves finding the best set of coefficients that can predict whether a passenger survived or not based on their features (such as age, sex, and fare)."
   ]
  },
  {
   "cell_type": "code",
   "execution_count": 9,
   "metadata": {},
   "outputs": [
    {
     "data": {
      "text/plain": [
       "LogisticRegression()"
      ]
     },
     "execution_count": 9,
     "metadata": {},
     "output_type": "execute_result"
    }
   ],
   "source": [
    "from sklearn.model_selection import train_test_split\n",
    "from sklearn.linear_model import LogisticRegression\n",
    "\n",
    "#preprocess\n",
    "titanic.fillna(titanic.mean(), inplace=True)\n",
    "titanic.dropna(inplace=True)\n",
    "\n",
    "# Convert Sex column from string to discrete\n",
    "titanic['Sex'] = titanic['Sex'].map({'male': 0, 'female': 1})\n",
    "\n",
    "X = titanic[['Age', 'Sex', 'Pclass']]\n",
    "y = titanic['Survived']\n",
    "\n",
    "X_train, X_test, y_train, y_test = train_test_split(X, y, test_size=0.2, random_state=0)\n",
    "\n",
    "model = LogisticRegression()\n",
    "model.fit(X_train, y_train)"
   ]
  },
  {
   "attachments": {},
   "cell_type": "markdown",
   "metadata": {},
   "source": [
    "## Prediction and Evaluation\n",
    "\n",
    "- Make predictions: We use the trained model to make predictions on the test data. This involves calculating the probability that each passenger survived, based on their features.\n",
    "\n",
    "- Evaluate the model: We evaluate the performance of the model using a confusion matrix, which shows how many true positives, true negatives, false positives, and false negatives the model made. This can give us an idea of how well the model is able to predict survival.Precision, recall, F1-score, and support are metrics used to evaluate the performance of a classification model.\n",
    "\n",
    "- Precision refers to the percentage of correctly identified positive cases out of all cases that were identified as positive. In other words, it measures how precise the model is in identifying positive cases.\n",
    "\n",
    "- Recall, on the other hand, refers to the percentage of correctly identified positive cases out of all actual positive cases. In other words, it measures how comprehensive the model is in identifying positive cases.\n",
    "\n",
    "- F1-score is the harmonic mean of precision and recall, which takes into account both measures. It provides a single value that summarizes the overall performance of the model.\n",
    "\n",
    "- Support is the number of samples in each class, which is useful to see if the dataset is balanced or imbalanced.\n",
    "\n",
    "In summary, precision, recall, and F1-score are important metrics for evaluating the accuracy and effectiveness of a classification model, while support provides additional information about the balance of the dataset."
   ]
  },
  {
   "cell_type": "code",
   "execution_count": 10,
   "metadata": {},
   "outputs": [
    {
     "name": "stdout",
     "output_type": "stream",
     "text": [
      "              precision    recall  f1-score   support\n",
      "\n",
      "           0       0.82      0.83      0.83       117\n",
      "           1       0.67      0.66      0.66        61\n",
      "\n",
      "    accuracy                           0.77       178\n",
      "   macro avg       0.74      0.74      0.74       178\n",
      "weighted avg       0.77      0.77      0.77       178\n",
      "\n"
     ]
    }
   ],
   "source": [
    "from sklearn.metrics import classification_report\n",
    "\n",
    "y_pred = model.predict(X_test)\n",
    "print(classification_report(y_test, y_pred))\n"
   ]
  }
 ],
 "metadata": {
  "kernelspec": {
   "display_name": "base",
   "language": "python",
   "name": "python3"
  },
  "language_info": {
   "codemirror_mode": {
    "name": "ipython",
    "version": 3
   },
   "file_extension": ".py",
   "mimetype": "text/x-python",
   "name": "python",
   "nbconvert_exporter": "python",
   "pygments_lexer": "ipython3",
   "version": "3.7.6"
  },
  "orig_nbformat": 4
 },
 "nbformat": 4,
 "nbformat_minor": 2
}
